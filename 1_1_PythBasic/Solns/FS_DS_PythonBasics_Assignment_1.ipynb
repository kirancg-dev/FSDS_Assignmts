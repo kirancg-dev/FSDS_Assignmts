{
 "cells": [
  {
   "cell_type": "raw",
   "metadata": {},
   "source": [
    "1. In the below elements which of them are values or an expression? eg:- values can be integer or string and expressions will be mathematical operators.\n",
    "* \n",
    "'hello'\n",
    "-87.8\n",
    "- \n",
    "/ \n",
    "+\t\n",
    "6 \n",
    "\n",
    "2. What is the difference between string and variable?\n",
    "\n",
    "3. Describe three different data types.\n",
    "\n",
    "4. What is an expression made up of? What do all expressions do?\n",
    "5. This assignment statements, like spam = 10. What is the difference between an expression and a statement?\n",
    "6. After running the following code, what does the variable bacon contain?\n",
    "bacon = 22\n",
    "bacon + 1\n",
    "\n",
    "7. What should the values of the following two terms be?\n",
    "'spam' + 'spamspam'\n",
    "'spam' * 3\n",
    "\n",
    "8. Why is eggs a valid variable name while 100 is invalid?\n",
    "9. What three functions can be used to get the integer, floating-point number, or string version of a value?\n",
    "10. Why does this expression cause an error? How can you fix it?\n",
    "'I have eaten ' + 99 + ' burritos.'\n",
    "\n",
    "\n"
   ]
  },
  {
   "cell_type": "markdown",
   "metadata": {},
   "source": [
    "### <font color=red> 1.1 Question - In the below elements which of them are values or an expression? eg:- values can be integer or string and expressions will be mathematical operators.</font>\n",
    "***\n",
    "\n",
    "\n",
    "'*' <br>\n",
    "'hello'<br>\n",
    "-87.8<br>\n",
    "-<br>\n",
    "/<br>\n",
    "+<br>\n",
    "6<br>"
   ]
  },
  {
   "cell_type": "markdown",
   "metadata": {},
   "source": [
    "##### <font color=blue>1.1 Solution: </font><br>\n",
    "\n",
    "1. Values are 'hello', -87.8, 6\n",
    "2. Expression are *, -, /, +"
   ]
  },
  {
   "cell_type": "markdown",
   "metadata": {},
   "source": [
    "### <font color=red> 1.2 Question - What is the difference between string and variable? </font>\n",
    "***"
   ]
  },
  {
   "cell_type": "markdown",
   "metadata": {},
   "source": [
    "#####  <font color=blue> 1.2 Solution </font>\n",
    "\n",
    "- String is an array of characters. All the values inside the quotes can be assigned to a string. Can include numbers or characters. \n",
    "- Variable holds the name of the location in the memory of the computer. A variable can store everything from strings to numbers.  "
   ]
  },
  {
   "cell_type": "markdown",
   "metadata": {},
   "source": [
    "### <font color=red> 1.3. Question - Describe three different data types. </font>\n",
    "***"
   ]
  },
  {
   "cell_type": "markdown",
   "metadata": {},
   "source": [
    "#####  <font color=blue> 1.3 Solution:</font>\n",
    "a. <b> Integers </b> or ints are positive or negative whole numbers with no decimal point. Example: var1 = 1 <br>\n",
    "b. <b> Floating point numbers </b> are created by decimal component to a number. Example: var1=1.3<br>\n",
    "c. <b>Strings</b> are used to record the text information such as name.Python tracks every element in the String as a sequence. var_str = \"I am a beginner in Full Stack Data Science class\"<br>\n",
    "d. <B>Complex numbers </B> is represented as x + yj where x is the real and y is the imaginary component. Example: 3+j4<br>\n",
    "e. <B> Boolean </B> can be defined by typing True/False without quotes. Example: bVar = True<br>"
   ]
  },
  {
   "cell_type": "markdown",
   "metadata": {},
   "source": [
    "### <font color=red> 1.4. Question - What is an expression made up of? What do all expressions do? </font>\n",
    "***"
   ]
  },
  {
   "cell_type": "markdown",
   "metadata": {},
   "source": [
    "####  <font color=blue> 1.4 Solution</font>\n",
    "\n",
    "An expression is a combination of values, variables, operators, and calls to functions.<br>\n",
    "The result of evaluating an expression is a value or object.<br>"
   ]
  },
  {
   "cell_type": "markdown",
   "metadata": {},
   "source": [
    "### <font color=red> 1.5. Question - This assignment statements, like spam = 10. What is the difference between an\n",
    "expression and a statement?</font>"
   ]
  },
  {
   "cell_type": "markdown",
   "metadata": {},
   "source": [
    "####  <font color=blue> 1.5 Solution</font>\n",
    "\n",
    "Expression\n",
    "- Expressions always returns a value\n",
    "- Functions are also expressions. Even a non returning function will still return None value, so it is an expression.\n",
    "- Can print the result value\n",
    "- Examples Of Python Expressions: “Hello” + “World”, 4 + 5 etc.\n",
    "\n",
    "\n",
    "Statement\n",
    "- A statement never returns a value\n",
    "- Cannot print any result\n",
    "- Examples Of Python Statements: Assignment statements, conditional branching, loops, classes, import, def, try, except, pass, del etc"
   ]
  },
  {
   "cell_type": "markdown",
   "metadata": {},
   "source": [
    "### <font color=red> 1.6. Question - After running the following code, what does the variable bacon contain? </font>\n",
    "- bacon = 22\n",
    "- bacon + 1"
   ]
  },
  {
   "cell_type": "markdown",
   "metadata": {},
   "source": [
    "####  <font color=blue> 1.6 Solution \n",
    "    \n",
    "    variable 'bacon' contains value as 22."
   ]
  },
  {
   "cell_type": "code",
   "execution_count": 4,
   "metadata": {},
   "outputs": [],
   "source": [
    "# bacon = 22\n",
    "# bacon + 1\n",
    "# bacon"
   ]
  },
  {
   "cell_type": "markdown",
   "metadata": {},
   "source": [
    "### <font color=red> 1.7. Question - What should the values of the following two terms be? </font>\n",
    "&#39;spam&#39; + &#39;spamspam&#39;\n",
    "&#39;spam&#39; * 3"
   ]
  },
  {
   "cell_type": "markdown",
   "metadata": {},
   "source": [
    "####  <font color=blue> 1.7 Solution </font>"
   ]
  },
  {
   "cell_type": "markdown",
   "metadata": {},
   "source": [
    "### <font color=red> 1.8. Question - Why is eggs a valid variable name while 100 is invalid? </font>"
   ]
  },
  {
   "cell_type": "markdown",
   "metadata": {},
   "source": [
    "####  <font color=blue> 1.8 Solution - </font>"
   ]
  },
  {
   "cell_type": "markdown",
   "metadata": {},
   "source": [
    "### <font color=red> 1.9. Question - What three functions can be used to get the integer, floating-point number, or string\n",
    "version of a value? </font>"
   ]
  },
  {
   "cell_type": "markdown",
   "metadata": {},
   "source": [
    "####  <font color=blue> 1.9 Solution </font>"
   ]
  },
  {
   "cell_type": "markdown",
   "metadata": {},
   "source": [
    "### <font color=red> 1.10. Question - Why does this expression cause an error? How can you fix it? </font>\n",
    "&#39;I have eaten &#39; + 99 + &#39; burritos.&#39;"
   ]
  },
  {
   "cell_type": "markdown",
   "metadata": {},
   "source": [
    "#### <font color=blue> 1.10 Solution </font>"
   ]
  }
 ],
 "metadata": {
  "kernelspec": {
   "display_name": "Python 3",
   "language": "python",
   "name": "python3"
  },
  "language_info": {
   "codemirror_mode": {
    "name": "ipython",
    "version": 3
   },
   "file_extension": ".py",
   "mimetype": "text/x-python",
   "name": "python",
   "nbconvert_exporter": "python",
   "pygments_lexer": "ipython3",
   "version": "3.8.5"
  }
 },
 "nbformat": 4,
 "nbformat_minor": 4
}
